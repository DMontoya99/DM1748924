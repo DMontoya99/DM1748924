{
  "nbformat": 4,
  "nbformat_minor": 0,
  "metadata": {
    "colab": {
      "provenance": [],
      "authorship_tag": "ABX9TyOerqZsaD3b5lc7/f/6WsrR",
      "include_colab_link": true
    },
    "kernelspec": {
      "name": "python3",
      "display_name": "Python 3"
    },
    "language_info": {
      "name": "python"
    }
  },
  "cells": [
    {
      "cell_type": "markdown",
      "metadata": {
        "id": "view-in-github",
        "colab_type": "text"
      },
      "source": [
        "<a href=\"https://colab.research.google.com/github/DMontoya99/DM1748924/blob/main/IA_Ejercicio1_DiegoMontoya1748924.ipynb\" target=\"_parent\"><img src=\"https://colab.research.google.com/assets/colab-badge.svg\" alt=\"Open In Colab\"/></a>"
      ]
    },
    {
      "cell_type": "markdown",
      "source": [
        "En la siguiente programa se mostrara como se solicita el nombre y si le manda un saludo o no.\n"
      ],
      "metadata": {
        "id": "yYfX3CMmFeQx"
      }
    },
    {
      "cell_type": "code",
      "execution_count": 19,
      "metadata": {
        "colab": {
          "base_uri": "https://localhost:8080/"
        },
        "id": "SXmernYeWo_u",
        "outputId": "32e4342d-2bbf-42e0-cd7f-5b7479b04b5f"
      },
      "outputs": [
        {
          "name": "stdout",
          "output_type": "stream",
          "text": [
            "¿Que quieres saber? Nombre\n",
            "Nombre : Diego\n",
            "¿Quieres saludarlo? Si\n"
          ]
        }
      ],
      "source": [
        "persona = {}\n",
        "continuar = True\n",
        "while continuar:\n",
        "  clave = input(\"¿Que quieres saber? \")\n",
        "  valor = input(clave + \" : \")\n",
        "  persona[clave] = valor \n",
        "  continuar = input(\"¿Quieres saludarlo? \") == \"si\"\n",
        "   \n",
        "  \n",
        "\n",
        "\n"
      ]
    },
    {
      "cell_type": "markdown",
      "source": [
        "Escribe una función que regrese el último elemento de una lista y que revierta el orden de la lista e imprima la lista revertida.\n"
      ],
      "metadata": {
        "id": "zlI9LCFbjcJ1"
      }
    },
    {
      "cell_type": "code",
      "source": [
        "# A continuacion se muestra los siguientes numeros\n",
        "# (0, 1, 2, 3, 4, 5, 6, 7, 8, 9)\n",
        "# Se ocupa invertir lista de numeros\n",
        "\n",
        "print(\"Lista de numeros: \")\n",
        "numeros = (0, 1, 2, 3, 4, 5, 6, 7, 8, 9)\n",
        "print(numeros)\n",
        "\n",
        "\n",
        "print(\"Lista revertida:\")\n",
        "numeros_invertidos = tuple(reversed(numeros))\n",
        "print(numeros_invertidos)"
      ],
      "metadata": {
        "colab": {
          "base_uri": "https://localhost:8080/"
        },
        "id": "fUC4bwDPjQ9h",
        "outputId": "4dabed38-0db7-472f-fb43-cb7509e52846"
      },
      "execution_count": 53,
      "outputs": [
        {
          "output_type": "stream",
          "name": "stdout",
          "text": [
            "Lista de numeros: \n",
            "(0, 1, 2, 3, 4, 5, 6, 7, 8, 9)\n",
            "Lista revertida:\n",
            "(9, 8, 7, 6, 5, 4, 3, 2, 1, 0)\n"
          ]
        }
      ]
    },
    {
      "cell_type": "markdown",
      "source": [
        "Escribe una función que toma una lista de strings y los imprima línea por línea en un marco rectangular."
      ],
      "metadata": {
        "id": "3MyizO5kQhWH"
      }
    },
    {
      "cell_type": "code",
      "source": [
        "MarcoSup = \"****************\"\n",
        "SegLi =  \"* Buen dia     * \"  \n",
        "TerLi =  \"* estudio en   * \" \n",
        "CuaLi =  \"* FIME UANL    * \"  \n",
        "MarcoInf = \"****************\"\n",
        "\n",
        "\n",
        "\n",
        "print(MarcoSup)\n",
        "print(SegLi)\n",
        "print(TerLi)\n",
        "print(CuaLi)\n",
        "print(MarcoInf)\n",
        "\n"
      ],
      "metadata": {
        "colab": {
          "base_uri": "https://localhost:8080/"
        },
        "id": "O_Dc3T99OIMn",
        "outputId": "9184332c-24a3-4517-b112-c7e929a628db"
      },
      "execution_count": 65,
      "outputs": [
        {
          "output_type": "stream",
          "name": "stdout",
          "text": [
            "****************\n",
            "* Buen dia     * \n",
            "* estudio en   * \n",
            "* FIME UANL    * \n",
            "****************\n"
          ]
        }
      ]
    },
    {
      "cell_type": "code",
      "source": [],
      "metadata": {
        "id": "5IZBRzkyQgVD"
      },
      "execution_count": null,
      "outputs": []
    }
  ]
}